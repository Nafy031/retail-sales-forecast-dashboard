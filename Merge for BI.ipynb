{
 "cells": [
  {
   "cell_type": "code",
   "execution_count": 1,
   "id": "4ad72afa-c7ae-4f80-8316-f77153554ef6",
   "metadata": {},
   "outputs": [],
   "source": [
    "import pandas as pd"
   ]
  },
  {
   "cell_type": "code",
   "execution_count": 3,
   "id": "133dd762-2d73-4726-a044-9d2f4b9115d7",
   "metadata": {},
   "outputs": [],
   "source": [
    "actuals = pd.read_csv(\"monthly_sales_by_category.csv\")\n",
    "actuals[\"Month\"] = pd.to_datetime(actuals[\"Month\"])\n",
    "actuals.rename(columns={\"Sales\":\"ActualSales\"}, inplace=True)"
   ]
  },
  {
   "cell_type": "code",
   "execution_count": 5,
   "id": "685942e0-99ad-49b4-a254-fde9d1a5a083",
   "metadata": {},
   "outputs": [],
   "source": [
    "fc = pd.read_csv(\"forecast_by_category.csv\")\n",
    "fc[\"ds\"] = pd.to_datetime(fc[\"ds\"])\n",
    "fc.rename(columns={\"ds\":\"Month\",\"yhat\":\"Forecast\",\"yhat_lower\":\"Lower\",\"yhat_upper\":\"Upper\"}, inplace=True)"
   ]
  },
  {
   "cell_type": "code",
   "execution_count": 7,
   "id": "d7463c59-bdd9-446c-a070-34f05677cd70",
   "metadata": {},
   "outputs": [],
   "source": [
    "last_actual = actuals[\"Month\"].max()\n",
    "fc[\"IsForecast\"] = (fc[\"Month\"] > last_actual).astype(int)"
   ]
  },
  {
   "cell_type": "code",
   "execution_count": 9,
   "id": "1442f6cc-6d01-4450-9653-eb19411abd75",
   "metadata": {},
   "outputs": [],
   "source": [
    "merged = pd.merge(fc, actuals, on=[\"Month\",\"Category\"], how=\"left\")"
   ]
  },
  {
   "cell_type": "code",
   "execution_count": 11,
   "id": "e6628dcf-cd22-42ce-8df1-e5734b3581bc",
   "metadata": {},
   "outputs": [],
   "source": [
    "historical = actuals.copy()"
   ]
  },
  {
   "cell_type": "code",
   "execution_count": 13,
   "id": "29f50bf6-fa97-4292-bfd1-fb707d79743b",
   "metadata": {},
   "outputs": [],
   "source": [
    "merged.sort_values([\"Category\",\"Month\"], inplace=True)\n",
    "merged.to_csv(\"bi_category_actuals_forecast.csv\", index=False)\n",
    "historical.to_csv(\"bi_category_actuals_only.csv\", index=False)"
   ]
  }
 ],
 "metadata": {
  "kernelspec": {
   "display_name": "Python 3 (ipykernel)",
   "language": "python",
   "name": "python3"
  },
  "language_info": {
   "codemirror_mode": {
    "name": "ipython",
    "version": 3
   },
   "file_extension": ".py",
   "mimetype": "text/x-python",
   "name": "python",
   "nbconvert_exporter": "python",
   "pygments_lexer": "ipython3",
   "version": "3.12.4"
  }
 },
 "nbformat": 4,
 "nbformat_minor": 5
}
